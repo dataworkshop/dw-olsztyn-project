{
  "nbformat": 4,
  "nbformat_minor": 0,
  "metadata": {
    "colab": {
      "name": "Wizualizacja danych - workshop.ipynb",
      "provenance": [],
      "collapsed_sections": [],
      "toc_visible": true
    },
    "kernelspec": {
      "name": "python3",
      "display_name": "Python 3"
    }
  },
  "cells": [
    {
      "cell_type": "code",
      "metadata": {
        "id": "r2sbocM2rjTx",
        "colab_type": "code",
        "colab": {}
      },
      "source": [
        "print(\"Hello!\")\n",
        "\n",
        "workshop  = {\n",
        "  'title': 'Wizualizacja danych', \n",
        "  'author': 'Dariusz Tanajewski',\n",
        "  'club' : 'OLSZTYN @ DATAWORKSHOP',\n",
        " }"
      ],
      "execution_count": 0,
      "outputs": []
    },
    {
      "cell_type": "markdown",
      "metadata": {
        "id": "MqkfUle_sxQw",
        "colab_type": "text"
      },
      "source": [
        "# 1. Wprowadzenie do Matplotlib"
      ]
    },
    {
      "cell_type": "markdown",
      "metadata": {
        "id": "ZfjIX104Dk3w",
        "colab_type": "text"
      },
      "source": [
        "* Najpopularniejsza biblioteka do tworzenia wizualizacji dla  języka Python\n",
        "* Stworzona na podobieństwo interfejsu znanego ze środowiska Matlab\n",
        "* Daje pełną kontrolę nad każdym aspektem wizualizacji\n",
        "* Pozwala na eksport wizualizacji do wszystkich popularnych formatów grafiki wektorowej i rastrowej\n",
        "* Świetnie współpracuje z bilbiotekami Pandas i Numpy\n",
        "* Podstawa wielu dodatkowych pakietów do wizualizacji danych (Seaborn, Plotly, Bokeh, Altair itp.)"
      ]
    },
    {
      "cell_type": "markdown",
      "metadata": {
        "id": "PJeCWJHPHMCd",
        "colab_type": "text"
      },
      "source": [
        "Oficjalna strona: \n",
        "http://www.matplotlib.org"
      ]
    },
    {
      "cell_type": "code",
      "metadata": {
        "id": "UVdQEq9Co_0u",
        "colab_type": "code",
        "colab": {}
      },
      "source": [
        "import matplotlib.pyplot as plt \n",
        "import pandas as pd"
      ],
      "execution_count": 0,
      "outputs": []
    },
    {
      "cell_type": "code",
      "metadata": {
        "id": "ioozu7dUFthT",
        "colab_type": "code",
        "colab": {}
      },
      "source": [
        "%matplotlib inline "
      ],
      "execution_count": 0,
      "outputs": []
    },
    {
      "cell_type": "code",
      "metadata": {
        "id": "rsgkVk9EFtlU",
        "colab_type": "code",
        "colab": {}
      },
      "source": [
        "# Przygotowanie danych\n",
        "\n",
        "# Dane z projektu Wirus na mapie PL\n",
        "# https://github.com/dtandev/coronavirus/tree/master/data\n",
        "\n",
        "data_url = \"https://raw.githubusercontent.com/dtandev/coronavirus/master/data/CoronavirusPL%20-%20General.csv\"\n",
        "df = pd.read_csv(data_url)\n",
        "df['Day_of_pandemic'] = [i for i in range(1,len(df)+1)]\n",
        "\n",
        "# Słownik łączący Timestamp z Day_of_pandemic\n",
        "dopDict = {}\n",
        "for i in df['Day_of_pandemic']:\n",
        "  dopDict[df['Timestamp'][i-1]]=i\n",
        "\n",
        "zip(df['Day_of_pandemic'], df['Timestamp'])\n",
        "print('Kolumny w ramce danych:')\n",
        "print(list(df.columns))\n",
        "\n",
        "day = df['Day_of_pandemic']\n",
        "d = df['Deaths']\n",
        "c = df['Confirmed']\n",
        "r = df['Recovered']"
      ],
      "execution_count": 0,
      "outputs": []
    },
    {
      "cell_type": "markdown",
      "metadata": {
        "id": "QP2mQV8OTA61",
        "colab_type": "text"
      },
      "source": [
        "### Metoda funkcyjna vs. Metoda obiektowa"
      ]
    },
    {
      "cell_type": "markdown",
      "metadata": {
        "id": "XcFq6xI-bLcc",
        "colab_type": "text"
      },
      "source": [
        "### Metoda funkcyjna"
      ]
    },
    {
      "cell_type": "code",
      "metadata": {
        "id": "8NqMb441Sm40",
        "colab_type": "code",
        "colab": {}
      },
      "source": [
        "# Tworzenie wykresów \n",
        "\n",
        "plt.plot(day, d)\n",
        "plt.show()"
      ],
      "execution_count": 0,
      "outputs": []
    },
    {
      "cell_type": "code",
      "metadata": {
        "id": "Ewsk944ObcCk",
        "colab_type": "code",
        "colab": {}
      },
      "source": [
        "# Zadanie 1. Stwórz wykres pokazujący przyrost liczby potwierdzonych przypadków zakażenia"
      ],
      "execution_count": 0,
      "outputs": []
    },
    {
      "cell_type": "code",
      "metadata": {
        "id": "3mB0yumESnR7",
        "colab_type": "code",
        "colab": {}
      },
      "source": [
        "# Ustawienia stylu\n",
        "plt.plot(day, d, 'g-')\n",
        "\n",
        "linestyles = ['-', '--', '-.', ':']\n",
        "pointstyles = ['.', ',', 'o', 'x', '3', 'D']\n",
        "colors = ['r', 'b', 'g', 'c']\n",
        "\n",
        "# Więcej:\n",
        "# https://matplotlib.org/3.1.1/api/_as_gen/matplotlib.pyplot.plot.html\n"
      ],
      "execution_count": 0,
      "outputs": []
    },
    {
      "cell_type": "code",
      "metadata": {
        "id": "AwJR-NrubwIO",
        "colab_type": "code",
        "colab": {}
      },
      "source": [
        "# Zadanie 2. Wykres z zadania 1 wyświetl w postaci czerwonych krzyży.\n",
        "\n"
      ],
      "execution_count": 0,
      "outputs": []
    },
    {
      "cell_type": "code",
      "metadata": {
        "id": "yzXg-dWrSnVI",
        "colab_type": "code",
        "colab": {}
      },
      "source": [
        "# Opis wykresu\n",
        "\n",
        "plt.plot(day, d)\n",
        "plt.xlabel('Day of pandemic')\n",
        "plt.ylabel('Deaths')\n",
        "plt.title('Increase in deaths during COVID pandemic')"
      ],
      "execution_count": 0,
      "outputs": []
    },
    {
      "cell_type": "code",
      "metadata": {
        "id": "NiYd1Fk2cCK5",
        "colab_type": "code",
        "colab": {}
      },
      "source": [
        "# Zadanie 3. Dodaj opisy do wykresu z zadania 2. \n",
        "\n"
      ],
      "execution_count": 0,
      "outputs": []
    },
    {
      "cell_type": "code",
      "metadata": {
        "id": "xAGGeZadcI-6",
        "colab_type": "code",
        "colab": {}
      },
      "source": [
        "# Subplot\n",
        "\n",
        "plt.subplot(1,3,1)\n",
        "plt.plot(day, d, 'r-')\n",
        "plt.subplot(1,3,3)\n",
        "plt.plot(day, r, 'g-')\n"
      ],
      "execution_count": 0,
      "outputs": []
    },
    {
      "cell_type": "code",
      "metadata": {
        "id": "0Vpyaf_CiSYV",
        "colab_type": "code",
        "colab": {}
      },
      "source": [
        "# Zadanie 4. Uzupełnij powyższy subplot wykresem danych o zakażeniach.\n",
        "\n"
      ],
      "execution_count": 0,
      "outputs": []
    },
    {
      "cell_type": "markdown",
      "metadata": {
        "id": "J1o4D1UCfJNW",
        "colab_type": "text"
      },
      "source": [
        "### Metoda obiektowa"
      ]
    },
    {
      "cell_type": "code",
      "metadata": {
        "id": "x8-29yWUSnYC",
        "colab_type": "code",
        "colab": {}
      },
      "source": [
        "# Tworzymy obiekt Figure, czyli naszą \"czystką kartkę\"\n",
        "fig = plt.figure()\n",
        "\n",
        "# Dodatnie osi do wykresu\n",
        "axes = fig.add_axes([0.1 ,0.1 ,0.8, 0.8]) \n",
        "\n",
        "# Wartości w nawiasach definiują 'obszar roboczy' dla utworzonego wczesniej obiektu Figure (tj. z czystej kartki wydzielamy\n",
        "# obszar, na którym będą tworzone wizualizacje danych)\n",
        "# Pierwsze dwie wartości to odległości od lewej i dolnej krawędzi. Kolejne dwie, to szerokość i wysokość. \n",
        "# Ich wartości powinny zawierać się w przedziale <0,1> i należy je interpretować jako ułamki wielkości obiektu Figure. \n",
        "\n",
        "# Dodanie danych do wykresu\n",
        "axes.plot(day, d, 'b--')\n",
        "\n",
        "# Przypisanie nazw osi i tytułu\n",
        "axes.set_xlabel('Day of pandemic')\n",
        "axes.set_ylabel('Deaths')\n",
        "axes.set_title('Increase in deaths during COVID pandemic')"
      ],
      "execution_count": 0,
      "outputs": []
    },
    {
      "cell_type": "code",
      "metadata": {
        "id": "-DKq1ATFfH_T",
        "colab_type": "code",
        "colab": {}
      },
      "source": [
        "# Zadanie 5. Utwórz obiekt Figure, a następnie przypisz mu dwa zestawy osi roboczych: \n",
        "# axes1 ([0.1 ,0.1 ,0.9, 0.9]) i axes2 ([0.2 ,0.5 ,0.35, 0.45])\n",
        "\n",
        "\n",
        "fig = plt.figure()\n",
        "axes1 = fig.add_axes([0.1, 0.1, 0.9, 0.9])\n",
        "axes2 = fig.add_axes([0.2, 0.5, 0.35, 0.45])\n"
      ],
      "execution_count": 0,
      "outputs": []
    },
    {
      "cell_type": "code",
      "metadata": {
        "id": "GgVyHLJKfIFV",
        "colab_type": "code",
        "colab": {}
      },
      "source": [
        "# Dodajmy dane oraz opisy do obu osi \n",
        "\n",
        "axes1.plot(day, c)\n",
        "axes2.plot(day, d)\n",
        "\n",
        "axes1.set_ylabel('Zakażenia')\n",
        "axes1.set_xlabel('Dzień pandemii')\n",
        "\n",
        "axes2.set_ylabel('Zgony')\n",
        "axes2.set_xlabel('Dzień pandemii')\n",
        "\n",
        "axes1.set_title('Zakażenia i zgony podczas COVID-19')\n",
        "\n",
        "fig"
      ],
      "execution_count": 0,
      "outputs": []
    },
    {
      "cell_type": "markdown",
      "metadata": {
        "id": "DEmvTufo3nev",
        "colab_type": "text"
      },
      "source": [
        "#### Subplots"
      ]
    },
    {
      "cell_type": "code",
      "metadata": {
        "id": "cHlK_UQ7fIUh",
        "colab_type": "code",
        "colab": {}
      },
      "source": [
        "# Subplots pozwala zarządzać obiektem Figure w zakresie układu poszczególnych wykresów,\n",
        "# które składają się na ten obiekt\n",
        "\n",
        "plt.subplots() # domyślnie > sublotps(1,1)\n"
      ],
      "execution_count": 0,
      "outputs": []
    },
    {
      "cell_type": "code",
      "metadata": {
        "id": "98WtNflyfIae",
        "colab_type": "code",
        "colab": {}
      },
      "source": [
        "plt.subplots(1,3)"
      ],
      "execution_count": 0,
      "outputs": []
    },
    {
      "cell_type": "code",
      "metadata": {
        "id": "JdPbesG2fIgJ",
        "colab_type": "code",
        "colab": {}
      },
      "source": [
        "fig, axes = plt.subplots(2,3)"
      ],
      "execution_count": 0,
      "outputs": []
    },
    {
      "cell_type": "code",
      "metadata": {
        "id": "SHbyQJDEfIlh",
        "colab_type": "code",
        "colab": {}
      },
      "source": [
        "axes[1,1].plot(day, d)\n",
        "fig"
      ],
      "execution_count": 0,
      "outputs": []
    },
    {
      "cell_type": "code",
      "metadata": {
        "id": "19yv-jJqKBO0",
        "colab_type": "code",
        "colab": {}
      },
      "source": [
        "# Dopasowanie odstępów pomiędzy wykresami w taki sposób, aby ich elementy\n",
        "# nie nakładały się na siebie\n",
        "\n",
        "fig.tight_layout()\n"
      ],
      "execution_count": 0,
      "outputs": []
    },
    {
      "cell_type": "code",
      "metadata": {
        "id": "yI6c5sgjfIeJ",
        "colab_type": "code",
        "colab": {}
      },
      "source": [
        "#### Rozmiar i DPI"
      ],
      "execution_count": 0,
      "outputs": []
    },
    {
      "cell_type": "code",
      "metadata": {
        "id": "ickGa9eVfIYa",
        "colab_type": "code",
        "colab": {}
      },
      "source": [
        "fig = plt.figure(figsize = (8,2), dpi = 100)\n",
        "ax = fig.add_axes([0,0,1,1])\n",
        "ax.plot(day, d)"
      ],
      "execution_count": 0,
      "outputs": []
    },
    {
      "cell_type": "code",
      "metadata": {
        "id": "n1IkrpdLfIOF",
        "colab_type": "code",
        "colab": {}
      },
      "source": [
        "fig, axes = plt.subplots(2,1, figsize = (8,2), dpi = 100)\n",
        "axes[0].plot(day, d)\n",
        "axes[1].plot(day, c)\n",
        "fig.tight_layout()"
      ],
      "execution_count": 0,
      "outputs": []
    },
    {
      "cell_type": "code",
      "metadata": {
        "id": "DjehCE04TDh5",
        "colab_type": "code",
        "colab": {}
      },
      "source": [
        "# Zadanie 6. Dodaj do wykresów fig opisy osi oraz tytuły\n",
        "\n",
        "\n"
      ],
      "execution_count": 0,
      "outputs": []
    },
    {
      "cell_type": "markdown",
      "metadata": {
        "id": "MLo2QYCpmp73",
        "colab_type": "text"
      },
      "source": [
        "#### Dwa wykresy na jednej osi"
      ]
    },
    {
      "cell_type": "code",
      "metadata": {
        "id": "qWa62aC7mpVF",
        "colab_type": "code",
        "colab": {}
      },
      "source": [
        "# Wyświetlanie\n",
        "\n",
        "fig = plt.figure()\n",
        "ax = fig.add_axes([0,0,1,1])\n",
        "ax.plot(day, d)\n",
        "ax.plot(day, r)"
      ],
      "execution_count": 0,
      "outputs": []
    },
    {
      "cell_type": "code",
      "metadata": {
        "id": "IWwnGTNLnQZo",
        "colab_type": "code",
        "colab": {}
      },
      "source": [
        "# Dodanie legendy\n",
        "\n",
        "ax.legend()\n",
        "\n",
        "# Nie można stworzyć legendy, bo elementy wykresu nie mają przyporządkowanych \\\n",
        "# etykiet definujących (labels)"
      ],
      "execution_count": 0,
      "outputs": []
    },
    {
      "cell_type": "code",
      "metadata": {
        "id": "ZC-dK3ugnZNV",
        "colab_type": "code",
        "colab": {}
      },
      "source": [
        "fig = plt.figure()\n",
        "ax = fig.add_axes([0,0,1,1])\n",
        "ax.plot(day, d, label = 'Deaths')\n",
        "ax.plot(day, r, label = 'Recovered')\n",
        "ax.legend()"
      ],
      "execution_count": 0,
      "outputs": []
    },
    {
      "cell_type": "code",
      "metadata": {
        "id": "EtAW11I1odrg",
        "colab_type": "code",
        "colab": {}
      },
      "source": [
        "# Zmiana położenia legendy\n",
        "\n",
        "# argument loc, jego wartości i konsekwencje stosowania\n",
        "# https://matplotlib.org/3.2.1/api/_as_gen/matplotlib.pyplot.legend.html\n",
        "\n",
        "ax.legend(loc=1)\n",
        "# ax.legend(loc = (0.1,0.1))\n",
        "fig"
      ],
      "execution_count": 0,
      "outputs": []
    },
    {
      "cell_type": "markdown",
      "metadata": {
        "id": "tdG5tkesxHMN",
        "colab_type": "text"
      },
      "source": [
        "#### Ustawienia wykresu"
      ]
    },
    {
      "cell_type": "code",
      "metadata": {
        "id": "Y_ivDqVMxGlt",
        "colab_type": "code",
        "colab": {}
      },
      "source": [
        "# Kolory\n",
        "\n",
        "fig = plt.figure()\n",
        "ax =fig.add_axes([0,0,1,1])\n",
        "\n",
        "ax.plot(day, r, color = 'green')\n",
        "#ax.plot(day, r, color = '#CCC') #RGB Hex Code"
      ],
      "execution_count": 0,
      "outputs": []
    },
    {
      "cell_type": "code",
      "metadata": {
        "id": "ig5BtEqDxvGt",
        "colab_type": "code",
        "colab": {}
      },
      "source": [
        "# Grubość\n",
        "\n",
        "ax.plot(day, d, color='black', linewidth=5)\n",
        "fig"
      ],
      "execution_count": 0,
      "outputs": []
    },
    {
      "cell_type": "code",
      "metadata": {
        "id": "HnFzYpIx4xZQ",
        "colab_type": "code",
        "colab": {}
      },
      "source": [
        "# Przezroczystość\n",
        "\n",
        "fig = plt.figure()\n",
        "ax =fig.add_axes([0,0,1,1])\n",
        "ax.plot(day, d, color='red', lw=5, alpha = 0.1)"
      ],
      "execution_count": 0,
      "outputs": []
    },
    {
      "cell_type": "code",
      "metadata": {
        "id": "IXW3_5QU5QTv",
        "colab_type": "code",
        "colab": {}
      },
      "source": [
        "# Styl linii\n",
        "\n",
        "fig = plt.figure(figsize = (5,3), dpi = 200)\n",
        "ax =fig.add_axes([0,0,1,1])\n",
        "ax.plot(day, d, color='red', lw=2, linestyle = ':') # linestyle > ls"
      ],
      "execution_count": 0,
      "outputs": []
    },
    {
      "cell_type": "code",
      "metadata": {
        "id": "75FcfyUK5d9e",
        "colab_type": "code",
        "colab": {}
      },
      "source": [
        "# Styl markerów\n",
        "\n",
        "fig = plt.figure(figsize = (5,3), dpi = 200)\n",
        "ax =fig.add_axes([0,0,1,1])\n",
        "ax.plot(day, d, color='red', lw=1, ls = '-', marker = '.')"
      ],
      "execution_count": 0,
      "outputs": []
    },
    {
      "cell_type": "code",
      "metadata": {
        "id": "vjdDqOUJ5uFe",
        "colab_type": "code",
        "colab": {}
      },
      "source": [
        "fig = plt.figure(figsize = (5,3), dpi = 200)\n",
        "ax =fig.add_axes([0,0,1,1])\n",
        "ax.plot(day, d, \n",
        "        color='red', \n",
        "        lw=1, \n",
        "        ls = '-', \n",
        "        marker = '.', \n",
        "        markersize = 10)"
      ],
      "execution_count": 0,
      "outputs": []
    },
    {
      "cell_type": "code",
      "metadata": {
        "id": "xjOzbviG5_Qn",
        "colab_type": "code",
        "colab": {}
      },
      "source": [
        "fig = plt.figure(figsize = (5,3), dpi = 200)\n",
        "ax =fig.add_axes([0,0,1,1])\n",
        "ax.plot(day, d, \n",
        "        color='red', \n",
        "        lw=1, \n",
        "        ls = '-', \n",
        "        marker = '.', \n",
        "        markersize = 10,\n",
        "        markerfacecolor = 'blue')"
      ],
      "execution_count": 0,
      "outputs": []
    },
    {
      "cell_type": "code",
      "metadata": {
        "id": "8tzlhy576DHl",
        "colab_type": "code",
        "colab": {}
      },
      "source": [
        "fig = plt.figure(figsize = (5,3), dpi = 200)\n",
        "ax =fig.add_axes([0,0,1,1])\n",
        "ax.plot(day, d, \n",
        "        color='red', \n",
        "        lw=1, \n",
        "        ls = '-', \n",
        "        marker = '.', \n",
        "        markersize = 10,\n",
        "        markerfacecolor = 'blue',\n",
        "        markeredgecolor = 'green')"
      ],
      "execution_count": 0,
      "outputs": []
    },
    {
      "cell_type": "markdown",
      "metadata": {
        "id": "PvEaBN6Z6z8O",
        "colab_type": "text"
      },
      "source": [
        "#### Limity wartości na osiach"
      ]
    },
    {
      "cell_type": "code",
      "metadata": {
        "id": "CWGomRth6zHu",
        "colab_type": "code",
        "colab": {}
      },
      "source": [
        "fig = plt.figure(figsize = (5,3), dpi = 200)\n",
        "ax =fig.add_axes([0,0,1,1])\n",
        "ax.set_xlim([30,100])\n",
        "ax.set_ylim([0,1000])\n",
        "ax.plot(day,d)"
      ],
      "execution_count": 0,
      "outputs": []
    },
    {
      "cell_type": "markdown",
      "metadata": {
        "id": "BHF7O0KZ7hYI",
        "colab_type": "text"
      },
      "source": [
        "#### Inne typy wykresów"
      ]
    },
    {
      "cell_type": "code",
      "metadata": {
        "id": "H_t9emG17g-r",
        "colab_type": "code",
        "colab": {}
      },
      "source": [
        "# Wykres punktowy\n",
        "plt.scatter(day, d)"
      ],
      "execution_count": 0,
      "outputs": []
    },
    {
      "cell_type": "code",
      "metadata": {
        "id": "I0C0sMuW6zhh",
        "colab_type": "code",
        "colab": {}
      },
      "source": [
        "# Histogram\n",
        "\n",
        "# Przygotowanie danych\n",
        "from random import sample\n",
        "data = sample(range(1,1000),1)\n",
        "\n",
        "# Histogram\n",
        "plt.hist(data)"
      ],
      "execution_count": 0,
      "outputs": []
    },
    {
      "cell_type": "code",
      "metadata": {
        "id": "raDxMurbGcnA",
        "colab_type": "code",
        "colab": {}
      },
      "source": [
        "# Barplot\n",
        "fig, axes = plt.subplots()\n",
        "inQuarantine = axes.bar(day, df['In_the_hospital'], 0.5, label= 'in hospitals')\n"
      ],
      "execution_count": 0,
      "outputs": []
    },
    {
      "cell_type": "markdown",
      "metadata": {
        "id": "-ZdSYqNwSrVN",
        "colab_type": "text"
      },
      "source": [
        "### Zapisywanie wykresu do pliku"
      ]
    },
    {
      "cell_type": "code",
      "metadata": {
        "id": "zlVZWqe6fILl",
        "colab_type": "code",
        "colab": {}
      },
      "source": [
        "fig.savefig('moj_pierwszy_wykres.png', dpi = 300)"
      ],
      "execution_count": 0,
      "outputs": []
    },
    {
      "cell_type": "markdown",
      "metadata": {
        "id": "egO3BNPzb6oY",
        "colab_type": "text"
      },
      "source": [
        "# 2. Wprowadzenie do Seaborn"
      ]
    },
    {
      "cell_type": "markdown",
      "metadata": {
        "id": "XG-FMIr9cFzY",
        "colab_type": "text"
      },
      "source": [
        "* Biblioteka do wizualizacji danych statystycznych\n",
        "* Piękny styl domyślnu\n",
        "* Współpracuje z obiektami typu DataFrame (Pandas)"
      ]
    },
    {
      "cell_type": "markdown",
      "metadata": {
        "id": "zEj3wBP3e-_7",
        "colab_type": "text"
      },
      "source": [
        "Dokumentacja: https://seaborn.pydata.org/"
      ]
    },
    {
      "cell_type": "markdown",
      "metadata": {
        "id": "TiNxs2y1ce1B",
        "colab_type": "text"
      },
      "source": [
        "**Seaborn Cheat Sheet from DataCamp**\n",
        "\n",
        "https://s3.amazonaws.com/assets.datacamp.com/blog_assets/Python_Seaborn_Cheat_Sheet.pdf"
      ]
    },
    {
      "cell_type": "code",
      "metadata": {
        "id": "fPONBUBffIJY",
        "colab_type": "code",
        "colab": {}
      },
      "source": [
        "import seaborn as sns\n",
        "import pandas as pd"
      ],
      "execution_count": 0,
      "outputs": []
    },
    {
      "cell_type": "code",
      "metadata": {
        "id": "YnJc39vnfICu",
        "colab_type": "code",
        "colab": {}
      },
      "source": [
        "# Przygotowanie danych\n",
        "\n",
        "# Import danych dot. zakażeń  \n",
        "df = pd.read_csv('https://raw.githubusercontent.com/dtandev/coronavirus/master/data/CoronavirusPL%20-%20Timeseries.csv')\n",
        "\n",
        "# Wyselekcjonowanie przypadków śmiertelnych\n",
        "deathsDf = df[df['Infection/Death/Recovery']=='D']\n",
        "\n",
        "# Przypisanie poszczególnym datom ich numeracji od pierwszego dnia pandemii w PL\n",
        "deathsDf['Day_of_pandemic']=  deathsDf['Timestamp'].map(dopDict)\n",
        "\n",
        "# Wybór poszczególnych kolumn\n",
        "deathsDf = deathsDf[['Province', 'City', 'Sex', 'Age', 'Day_of_pandemic']]\n",
        "\n",
        "\n",
        "deathsDf"
      ],
      "execution_count": 0,
      "outputs": []
    },
    {
      "cell_type": "markdown",
      "metadata": {
        "id": "3Tw8y0QqCWQw",
        "colab_type": "text"
      },
      "source": [
        "### Wizualizacje danych numerycznych"
      ]
    },
    {
      "cell_type": "markdown",
      "metadata": {
        "id": "DobLRlNx0qlD",
        "colab_type": "text"
      },
      "source": [
        "#### Histogramy i wykresy gęstości"
      ]
    },
    {
      "cell_type": "code",
      "metadata": {
        "id": "pc8vq94k2PXq",
        "colab_type": "code",
        "colab": {}
      },
      "source": [
        "# Histogram - wykres słupkowy przedstawiający graficzną interpretację częstotliwości występowania wartości . \n",
        "\n",
        "\n",
        "plt.hist(deathsDf['Age'], bins = 15)\n",
        "\n",
        "#deathsDf['Age'].plot.hist(bins=15)"
      ],
      "execution_count": 0,
      "outputs": []
    },
    {
      "cell_type": "code",
      "metadata": {
        "id": "ZdjHa94J2x3P",
        "colab_type": "code",
        "colab": {}
      },
      "source": [
        "# Wykres gęstości - wykres przedstawiajacy szacunek ciągłego rozkładu prawdopodobieństwa. \n",
        "# KDE (Kernel density estimate) - Metoda, która tworzy wykres gęstości\n",
        "\n",
        "deathsDf['Age'].plot.kde()"
      ],
      "execution_count": 0,
      "outputs": []
    },
    {
      "cell_type": "code",
      "metadata": {
        "id": "yZl9T44U0FoZ",
        "colab_type": "code",
        "colab": {}
      },
      "source": [
        "# Metoda distplot pakietu seaborn ułatwia tworzenie histogramów i wykresów gęstości. Pozwala też generować oba wykresy na jednym rysunku.\n",
        "\n",
        "sns.distplot(deathsDf['Age'], bins=20)\n",
        "\n",
        "# sns.distplot(deathsDf['Age'], kde = False)\n",
        "# sns.distplot(deathsDf['Age'], hist = False)"
      ],
      "execution_count": 0,
      "outputs": []
    },
    {
      "cell_type": "code",
      "metadata": {
        "id": "8xJXK-hsAJtA",
        "colab_type": "code",
        "colab": {}
      },
      "source": [
        "# Zadanie 1. Wygeneruj wykres częstości zmiennej dla zmiennej \"Day_of_pandemic\".Parametr bins ustaw na wartość 12. \n"
      ],
      "execution_count": 0,
      "outputs": []
    },
    {
      "cell_type": "markdown",
      "metadata": {
        "id": "00QwJRKmDps9",
        "colab_type": "text"
      },
      "source": [
        "#### Jointplot"
      ]
    },
    {
      "cell_type": "code",
      "metadata": {
        "id": "EIcr1cTX8Hcj",
        "colab_type": "code",
        "colab": {}
      },
      "source": [
        "# Jointplot - Wyświetla zależność pomiędzy dwiema zmiennymi \n",
        "\n",
        "sns.jointplot(x='Age', y='Day_of_pandemic', data=deathsDf)\n"
      ],
      "execution_count": 0,
      "outputs": []
    },
    {
      "cell_type": "code",
      "metadata": {
        "id": "Dnyz89UnE3-K",
        "colab_type": "code",
        "colab": {}
      },
      "source": [
        "sns.jointplot(x='Age', y='Day_of_pandemic', data=deathsDf, kind='hex')"
      ],
      "execution_count": 0,
      "outputs": []
    },
    {
      "cell_type": "markdown",
      "metadata": {
        "id": "SUwCFg7rI0r3",
        "colab_type": "text"
      },
      "source": [
        "#### Pairplot\n",
        "\n"
      ]
    },
    {
      "cell_type": "code",
      "metadata": {
        "id": "Fb7-sMeiFiCr",
        "colab_type": "code",
        "colab": {}
      },
      "source": [
        "# Pairplot generuje wykresy zależności pomiędzy parami wszystkich zmiennych numerycznych\n",
        "\n",
        "sns.pairplot(deathsDf)"
      ],
      "execution_count": 0,
      "outputs": []
    },
    {
      "cell_type": "code",
      "metadata": {
        "id": "n4B7minNIVe7",
        "colab_type": "code",
        "colab": {}
      },
      "source": [
        "# Parametr hue pozwala na podział zmiennej wg dodatkowej kategorii (nienumerycznej)\n",
        "sns.pairplot(deathsDf, hue = 'Sex', palette='coolwarm')"
      ],
      "execution_count": 0,
      "outputs": []
    },
    {
      "cell_type": "markdown",
      "metadata": {
        "id": "nOnzijMlCDpI",
        "colab_type": "text"
      },
      "source": [
        "### Wizualizacje danych kategorycznych"
      ]
    },
    {
      "cell_type": "markdown",
      "metadata": {
        "id": "EEcj_bwdyG4U",
        "colab_type": "text"
      },
      "source": [
        "#### Barplot"
      ]
    },
    {
      "cell_type": "code",
      "metadata": {
        "id": "DtvqXVNfx-A-",
        "colab_type": "code",
        "colab": {}
      },
      "source": [
        "# Domyślnie Barplot tworzy wykres kolumnowy z wartościami średnimi y, z podziałem na kategorie x.\n",
        "\n",
        "sns.barplot(x='Sex', y='Age', data=deathsDf)"
      ],
      "execution_count": 0,
      "outputs": []
    },
    {
      "cell_type": "code",
      "metadata": {
        "id": "ydR0TXWWytDl",
        "colab_type": "code",
        "colab": {}
      },
      "source": [
        "# Zadanie 3. Na wykresie pokaż średni wiek zmarłych pacjentów, z podziałem na województwa."
      ],
      "execution_count": 0,
      "outputs": []
    },
    {
      "cell_type": "code",
      "metadata": {
        "id": "nd_gVjjQz1Nv",
        "colab_type": "code",
        "colab": {}
      },
      "source": [
        "# Wartość średnią można zastąpić dowolną inną funkcją statystyczną (lub własną funkcją)\n",
        "# Aby to zrobić, zmieniamy parametr estimator\n",
        "\n",
        "import numpy as np\n",
        "\n",
        "sns.barplot(x='Sex', y='Age', data=deathsDf, estimator = np.min)"
      ],
      "execution_count": 0,
      "outputs": []
    },
    {
      "cell_type": "markdown",
      "metadata": {
        "id": "Uy6ApUd38EBU",
        "colab_type": "text"
      },
      "source": [
        "#### Countplot"
      ]
    },
    {
      "cell_type": "code",
      "metadata": {
        "id": "mNfyiY0z8DU0",
        "colab_type": "code",
        "colab": {}
      },
      "source": [
        "# Countplot zlicza wystąpienia wszystkich obiektów z podziałem na kategorie\n",
        "\n",
        "#sns.countplot(x='Province', data=deathsDf)\n",
        "\n",
        "chart = sns.countplot(x='Province', data=deathsDf)\n",
        "chart.set_xticklabels(chart.get_xticklabels(), rotation = 90)"
      ],
      "execution_count": 0,
      "outputs": []
    },
    {
      "cell_type": "code",
      "metadata": {
        "id": "MxHPbNYrPkxt",
        "colab_type": "code",
        "colab": {}
      },
      "source": [
        "# Zadanie. Dodając dodatkowy parametr 'hue', wygeneruj wykres zgonów w poszczególnych \n",
        "# województwach z podziałem na płeć. \n",
        "\n",
        "chart = sns.countplot(x='Province', data=deathsDf)\n",
        "chart.set_xticklabels(chart.get_xticklabels(), rotation = 90)"
      ],
      "execution_count": 0,
      "outputs": []
    },
    {
      "cell_type": "markdown",
      "metadata": {
        "id": "MP4xfOlYDMVR",
        "colab_type": "text"
      },
      "source": [
        "#### Boxplot"
      ]
    },
    {
      "cell_type": "code",
      "metadata": {
        "id": "9FPHuoXtDLNJ",
        "colab_type": "code",
        "colab": {}
      },
      "source": [
        "# Wykres skrzynkowy, pudełkowy ramka-wąsy lub boxplot\n",
        "# Wykres który pokazuje rozkład mierzonej zmiennej. \n",
        "# Szczegółowe informacje:\n",
        "# https://pogotowiestatystyczne.pl/wykres-skrzynkowy-moc-informacji-jednym-rysunku/\n",
        "\n",
        "sns.boxplot(x='Age', y='Province', data=deathsDf)"
      ],
      "execution_count": 0,
      "outputs": []
    },
    {
      "cell_type": "code",
      "metadata": {
        "id": "2OPB2dx3O5tF",
        "colab_type": "code",
        "colab": {}
      },
      "source": [
        "# Dodanie parametru hue\n",
        "\n",
        "sns.boxplot(x='Age', y='Province', data=deathsDf, hue='Sex')"
      ],
      "execution_count": 0,
      "outputs": []
    },
    {
      "cell_type": "markdown",
      "metadata": {
        "id": "5DooAaBOQH57",
        "colab_type": "text"
      },
      "source": [
        "#### Violinplot"
      ]
    },
    {
      "cell_type": "code",
      "metadata": {
        "id": "Cy-7M70hQG2_",
        "colab_type": "code",
        "colab": {}
      },
      "source": [
        "# Wykres skrzypcowy\n",
        "# Pozwala wizualizować jednocześnie gęstość prawdopodobieństwa oraz rozkład \n",
        "# dla kilku grup jednocześnie\n",
        "\n",
        "sns.violinplot(x='Sex', y='Age', data=deathsDf)"
      ],
      "execution_count": 0,
      "outputs": []
    },
    {
      "cell_type": "code",
      "metadata": {
        "id": "GvkiYB-xRzOd",
        "colab_type": "code",
        "colab": {}
      },
      "source": [
        "# Split - sposób na wyświetlenie rozkładu gęstości \n",
        "sns.violinplot(x='Age', y='Province', data=deathsDf, hue = 'Sex', split=True)"
      ],
      "execution_count": 0,
      "outputs": []
    },
    {
      "cell_type": "markdown",
      "metadata": {
        "id": "4vdhbbVli_2C",
        "colab_type": "text"
      },
      "source": [
        "#### Stripplot"
      ]
    },
    {
      "cell_type": "code",
      "metadata": {
        "id": "Mp87mOM_jFIq",
        "colab_type": "code",
        "colab": {}
      },
      "source": [
        "# Stripplot to wykres punktowy dla danych kategorycznych\n",
        "\n",
        "# sns.stripplot(x='Province', y='Age', data = deathsDf, hue = 'Sex', split = True)\n",
        "\n",
        "sns.stripplot(x='Province', y='Age', data = deathsDf, hue = 'Sex', split = True).set_xticklabels(chart.get_xticklabels(), rotation = 90)"
      ],
      "execution_count": 0,
      "outputs": []
    },
    {
      "cell_type": "markdown",
      "metadata": {
        "id": "JEoZtsYYkhCW",
        "colab_type": "text"
      },
      "source": [
        "#### Swarmplot"
      ]
    },
    {
      "cell_type": "code",
      "metadata": {
        "id": "PO_XmadlkgRr",
        "colab_type": "code",
        "colab": {}
      },
      "source": [
        "# Swarmplot jest kombinacją stripplot i violinplot\n",
        "\n",
        "sns.swarmplot(x ='Sex', y='Age', data = deathsDf)"
      ],
      "execution_count": 0,
      "outputs": []
    },
    {
      "cell_type": "markdown",
      "metadata": {
        "id": "Du2GquPtlLPT",
        "colab_type": "text"
      },
      "source": [
        "#### Factorplot"
      ]
    },
    {
      "cell_type": "code",
      "metadata": {
        "id": "c665VP4FlOqV",
        "colab_type": "code",
        "colab": {}
      },
      "source": [
        "# Factorplot to zamiennik wszystkich wcześniej przedstawionych funkcji do generowania wykresów\n",
        "# Elementem definiującym typ wykresu jest tutaj parametr 'kind\n",
        "\n",
        "sns.factorplot(x='Province', y='Age', data=deathsDf, kind= 'strip')"
      ],
      "execution_count": 0,
      "outputs": []
    },
    {
      "cell_type": "markdown",
      "metadata": {
        "id": "V98xLE4VmgdZ",
        "colab_type": "text"
      },
      "source": [
        "### Wizualizacje macierzy danych"
      ]
    },
    {
      "cell_type": "code",
      "metadata": {
        "id": "s0FdEwiOma5b",
        "colab_type": "code",
        "colab": {}
      },
      "source": [
        "# Heatmapy przydają się, gdy chcemy pokazać relacje pomiędzy 3 zmiennymi.\n",
        "# Przykładowo: Województwo, Dzień pandemii, ilość zgonów w danym dniu.\n",
        "\n",
        "# Przygotowanie danych\n",
        "deathsCount = (\n",
        "    deathsDf\n",
        "    [deathsDf['Day_of_pandemic']>65] # ostatnie dwa tygodnie\n",
        "    .groupby(['Province', 'Day_of_pandemic'])\n",
        "    .size()\n",
        "    .to_frame('Count')\n",
        "    .reset_index()\n",
        " ) \n",
        "# Dataframe > Pivot_table\n",
        "\n",
        "dataMatrix = deathsCount.pivot_table(columns = 'Day_of_pandemic', index = 'Province', values='Count', fill_value = 0)"
      ],
      "execution_count": 0,
      "outputs": []
    },
    {
      "cell_type": "markdown",
      "metadata": {
        "id": "aNHORKHyxVjj",
        "colab_type": "text"
      },
      "source": [
        "#### Heatmap"
      ]
    },
    {
      "cell_type": "code",
      "metadata": {
        "id": "yzA0F8R4sQ5H",
        "colab_type": "code",
        "colab": {}
      },
      "source": [
        "plt.figure(figsize=(9,6))\n",
        "sns.heatmap(dataMatrix, cmap = 'coolwarm', linewidths = 1, linecolor = 'black')"
      ],
      "execution_count": 0,
      "outputs": []
    },
    {
      "cell_type": "markdown",
      "metadata": {
        "id": "dqdNKkIZxYA_",
        "colab_type": "text"
      },
      "source": [
        "#### Clustermap"
      ]
    },
    {
      "cell_type": "code",
      "metadata": {
        "id": "P6zHRbAIxa-y",
        "colab_type": "code",
        "colab": {}
      },
      "source": [
        "# Clusstermap - tworzy klastry wierszy i kolumn wg ich podobieństwa\n",
        "\n",
        "sns.clustermap(dataMatrix, cmap='coolwarm')"
      ],
      "execution_count": 0,
      "outputs": []
    },
    {
      "cell_type": "markdown",
      "metadata": {
        "id": "Yw7VwTTmIjxi",
        "colab_type": "text"
      },
      "source": [
        "### Zmiana stylu i kolorów"
      ]
    },
    {
      "cell_type": "code",
      "metadata": {
        "id": "MNlFKSe3Iitb",
        "colab_type": "code",
        "colab": {}
      },
      "source": [
        "sns.countplot(x='Sex', data=deathsDf)"
      ],
      "execution_count": 0,
      "outputs": []
    },
    {
      "cell_type": "markdown",
      "metadata": {
        "id": "M--u1S6uXiLU",
        "colab_type": "text"
      },
      "source": [
        "#### Zmiana tła wykresu"
      ]
    },
    {
      "cell_type": "code",
      "metadata": {
        "colab_type": "code",
        "id": "Hak2mFclWhCY",
        "colab": {}
      },
      "source": [
        "sns.set_style('ticks') # Jeden z parametrów: darkgrid, whitegrid, dark, white, ticks\n",
        "sns.countplot(x='Sex', data=deathsDf)\n"
      ],
      "execution_count": 0,
      "outputs": []
    },
    {
      "cell_type": "markdown",
      "metadata": {
        "id": "yQNJovUMXk00",
        "colab_type": "text"
      },
      "source": [
        "#### Usunięcie osi"
      ]
    },
    {
      "cell_type": "code",
      "metadata": {
        "id": "CKobpH1KW365",
        "colab_type": "code",
        "colab": {}
      },
      "source": [
        "sns.countplot(x='Sex', data=deathsDf)\n",
        "sns.despine(left='True') # domyślnie top i right mają wartość True, a left i bottom False"
      ],
      "execution_count": 0,
      "outputs": []
    },
    {
      "cell_type": "markdown",
      "metadata": {
        "id": "vsnf6CQOYstn",
        "colab_type": "text"
      },
      "source": [
        "#### Zmiana rozmiaru"
      ]
    },
    {
      "cell_type": "code",
      "metadata": {
        "id": "uvnKDqREYvF-",
        "colab_type": "code",
        "colab": {}
      },
      "source": [
        "# Zmiana rozmiaru wykresów tworzonych za pomocą biblioteki Seaborn odbywa się poprzez odwołanie do biblioteki Matplotlib\n",
        "\n",
        "plt.figure(figsize=(3,2))\n",
        "sns.countplot(x='Sex', data=deathsDf)"
      ],
      "execution_count": 0,
      "outputs": []
    },
    {
      "cell_type": "code",
      "metadata": {
        "id": "_EC5n56TZldV",
        "colab_type": "code",
        "colab": {}
      },
      "source": [
        "sns.set_context('paper', font_scale=3)\n",
        "sns.countplot(x='Sex', data=deathsDf)"
      ],
      "execution_count": 0,
      "outputs": []
    },
    {
      "cell_type": "markdown",
      "metadata": {
        "id": "QuCHBNDucErN",
        "colab_type": "text"
      },
      "source": [
        "#### Zmiana kolorów\n"
      ]
    },
    {
      "cell_type": "code",
      "metadata": {
        "id": "1NGYIDCSaq_R",
        "colab_type": "code",
        "colab": {}
      },
      "source": [
        "# Dokumentacja : https://matplotlib.org/3.2.1/tutorials/colors/colormaps.html\n",
        "\n",
        "sns.set_context('paper')\n",
        "chart = sns.countplot(x='Province', data=deathsDf, hue='Sex', palette = 'seismic')\n",
        "chart.set_xticklabels(chart.get_xticklabels(), rotation = 90)\n",
        "chart.set(xlabel='Płeć', ylabel='Ilość ofiar')"
      ],
      "execution_count": 0,
      "outputs": []
    },
    {
      "cell_type": "markdown",
      "metadata": {
        "id": "5EV_OZwpfEFh",
        "colab_type": "text"
      },
      "source": [
        "#### Zapis do pliku"
      ]
    },
    {
      "cell_type": "code",
      "metadata": {
        "id": "9FVgqKvPdwBl",
        "colab_type": "code",
        "colab": {}
      },
      "source": [
        "chart.figure.savefig('seabornFig.png', bbox_inches = \"tight\")"
      ],
      "execution_count": 0,
      "outputs": []
    }
  ]
}