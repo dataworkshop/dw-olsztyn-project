{
 "cells": [
  {
   "cell_type": "code",
   "execution_count": 1,
   "metadata": {},
   "outputs": [],
   "source": [
    "import face_recognition\n",
    "import imutils\n",
    "from imutils.paths import list_images\n",
    "import pandas as pd\n",
    "import numpy as np"
   ]
  },
  {
   "cell_type": "code",
   "execution_count": 2,
   "metadata": {},
   "outputs": [
    {
     "data": {
      "text/plain": [
       "['president/Malgorzata_Kidawa_Błonska/Clipboard05.jpg',\n",
       " 'president/Malgorzata_Kidawa_Błonska/Clipboard08.jpg',\n",
       " 'president/Malgorzata_Kidawa_Błonska/Clipboard07.jpg',\n",
       " 'president/Malgorzata_Kidawa_Błonska/Clipboard06.jpg',\n",
       " 'president/Malgorzata_Kidawa_Błonska/Clipboard09.jpg',\n",
       " 'president/Malgorzata_Kidawa_Błonska/Clipboard02.jpg',\n",
       " 'president/Malgorzata_Kidawa_Błonska/Clipboard04.jpg',\n",
       " 'president/Malgorzata_Kidawa_Błonska/Clipboard01.jpg',\n",
       " 'president/Malgorzata_Kidawa_Błonska/Clipboard03.jpg',\n",
       " 'president/Miroslaw_Piotrowski/Clipboard05.jpg']"
      ]
     },
     "execution_count": 2,
     "metadata": {},
     "output_type": "execute_result"
    }
   ],
   "source": [
    "list(list_images(\"president/\"))[:10]"
   ]
  },
  {
   "cell_type": "code",
   "execution_count": 3,
   "metadata": {},
   "outputs": [],
   "source": [
    "def encode_faces(img_path):\n",
    "    img = face_recognition.load_image_file(img_path)\n",
    "    name = img_path.split(\"/\")[-2]\n",
    "    \n",
    "    # resizing to 800 on long side if needed\n",
    "    if max(img.shape) > 800:\n",
    "        arg = [\"height\", \"width\"][np.argmax(img.shape)]\n",
    "        img = imutils.resize(img, **{arg:800})\n",
    "    \n",
    "    # find all the faces and build encodings\n",
    "    face_locations = face_recognition.face_locations(img, model=\"cnn\")\n",
    "    # if no faces located return zeros\n",
    "    if len(face_locations) < 1:\n",
    "        print(f\"WARNING - no face locations found @ {img_path}\")\n",
    "        return name, np.zeros(128)\n",
    "    print(f\"Found: {len(face_locations)} face location(s) @ {img_path}\")\n",
    "    face_encodings = face_recognition.face_encodings(img, face_locations)\n",
    "\n",
    "    # should be more elegant but for know is fine\n",
    "    return name, face_encodings[0] "
   ]
  },
  {
   "cell_type": "code",
   "execution_count": 4,
   "metadata": {
    "scrolled": true
   },
   "outputs": [
    {
     "name": "stdout",
     "output_type": "stream",
     "text": [
      "Found: 1 face location(s) @ president/Malgorzata_Kidawa_Błonska/Clipboard05.jpg\n",
      "Found: 1 face location(s) @ president/Malgorzata_Kidawa_Błonska/Clipboard08.jpg\n",
      "Found: 1 face location(s) @ president/Malgorzata_Kidawa_Błonska/Clipboard07.jpg\n",
      "Found: 1 face location(s) @ president/Malgorzata_Kidawa_Błonska/Clipboard06.jpg\n",
      "Found: 1 face location(s) @ president/Malgorzata_Kidawa_Błonska/Clipboard09.jpg\n",
      "Found: 1 face location(s) @ president/Malgorzata_Kidawa_Błonska/Clipboard02.jpg\n",
      "Found: 1 face location(s) @ president/Malgorzata_Kidawa_Błonska/Clipboard04.jpg\n",
      "Found: 1 face location(s) @ president/Malgorzata_Kidawa_Błonska/Clipboard01.jpg\n",
      "Found: 1 face location(s) @ president/Malgorzata_Kidawa_Błonska/Clipboard03.jpg\n",
      "Found: 1 face location(s) @ president/Miroslaw_Piotrowski/Clipboard05.jpg\n",
      "Found: 1 face location(s) @ president/Miroslaw_Piotrowski/Clipboard08.jpg\n",
      "Found: 1 face location(s) @ president/Miroslaw_Piotrowski/Clipboard07.jpg\n",
      "Found: 1 face location(s) @ president/Miroslaw_Piotrowski/Clipboard06.jpg\n",
      "Found: 1 face location(s) @ president/Miroslaw_Piotrowski/Clipboard02.jpg\n",
      "Found: 1 face location(s) @ president/Miroslaw_Piotrowski/Clipboard04.jpg\n",
      "Found: 1 face location(s) @ president/Miroslaw_Piotrowski/Clipboard01.jpg\n",
      "Found: 1 face location(s) @ president/Miroslaw_Piotrowski/Clipboard03.jpg\n",
      "Found: 1 face location(s) @ president/Andrzej_Duda/Clipboard05.jpg\n",
      "Found: 1 face location(s) @ president/Andrzej_Duda/Clipboard08.jpg\n",
      "Found: 1 face location(s) @ president/Andrzej_Duda/Clipboard07.jpg\n",
      "Found: 1 face location(s) @ president/Andrzej_Duda/Clipboard06.jpg\n",
      "Found: 1 face location(s) @ president/Andrzej_Duda/Clipboard09.jpg\n",
      "Found: 1 face location(s) @ president/Andrzej_Duda/Clipboard02.jpg\n",
      "Found: 1 face location(s) @ president/Andrzej_Duda/Clipboard10.jpg\n",
      "Found: 1 face location(s) @ president/Andrzej_Duda/Clipboard04.jpg\n",
      "Found: 1 face location(s) @ president/Andrzej_Duda/Clipboard01.jpg\n",
      "Found: 1 face location(s) @ president/Andrzej_Duda/Clipboard03.jpg\n",
      "Found: 1 face location(s) @ president/Marek_Jakubiak/Clipboard05.jpg\n",
      "Found: 1 face location(s) @ president/Marek_Jakubiak/Clipboard08.jpg\n",
      "Found: 1 face location(s) @ president/Marek_Jakubiak/Clipboard07.jpg\n",
      "Found: 1 face location(s) @ president/Marek_Jakubiak/Clipboard06.jpg\n",
      "Found: 1 face location(s) @ president/Marek_Jakubiak/Clipboard09.jpg\n",
      "Found: 1 face location(s) @ president/Marek_Jakubiak/Clipboard02.jpg\n",
      "Found: 1 face location(s) @ president/Marek_Jakubiak/Clipboard04.jpg\n",
      "Found: 1 face location(s) @ president/Marek_Jakubiak/Clipboard01.jpg\n",
      "Found: 1 face location(s) @ president/Marek_Jakubiak/Clipboard03.jpg\n",
      "Found: 1 face location(s) @ president/Pawel_Tanajno/Clipboard05.jpg\n",
      "Found: 1 face location(s) @ president/Pawel_Tanajno/Clipboard08.jpg\n",
      "Found: 1 face location(s) @ president/Pawel_Tanajno/Clipboard07.jpg\n",
      "Found: 1 face location(s) @ president/Pawel_Tanajno/Clipboard06.jpg\n",
      "Found: 1 face location(s) @ president/Pawel_Tanajno/Clipboard02.jpg\n",
      "Found: 1 face location(s) @ president/Pawel_Tanajno/Clipboard04.jpg\n",
      "Found: 1 face location(s) @ president/Pawel_Tanajno/Clipboard01.jpg\n",
      "Found: 2 face location(s) @ president/Pawel_Tanajno/Clipboard03.jpg\n",
      "Found: 1 face location(s) @ president/Stanislaw_Zoltek/85117916_3684630284910851_3107008788222181376_o.jpg\n",
      "Found: 1 face location(s) @ president/Stanislaw_Zoltek/040117_r1_300.jpg\n",
      "Found: 1 face location(s) @ president/Stanislaw_Zoltek/41382386830_660ee0f622_b.jpg\n",
      "Found: 1 face location(s) @ president/Stanislaw_Zoltek/8a2be7ba2b4f5bd52c4b8df54e40a2ed_wide_705x396.jpg\n",
      "Found: 1 face location(s) @ president/Stanislaw_Zoltek/31175749_2114120641961831_8539208786261311488_o-e1524561009994.jpg\n",
      "Found: 1 face location(s) @ president/Stanislaw_Zoltek/5c470304d5fda_o_full.jpg\n",
      "Found: 1 face location(s) @ president/Stanislaw_Zoltek/OAhk9kpTURBXy80YmFlMmIzMDFhMmRiOTFkMWNkNmM4ZmZiYmFlOTA2Yi5qcGeSlQLNA8AAwsOVAgDNA8DCw4GhMAE.jpeg\n",
      "Found: 1 face location(s) @ president/Stanislaw_Zoltek/k7ekebgkyzor85zgqcf1zq4da47gkddz.jpg\n",
      "Found: 1 face location(s) @ president/Robert_Biedron/2.jpg\n",
      "Found: 1 face location(s) @ president/Robert_Biedron/1.jpg\n",
      "Found: 1 face location(s) @ president/Robert_Biedron/4.jpeg\n",
      "Found: 1 face location(s) @ president/Robert_Biedron/8.jpg\n",
      "Found: 1 face location(s) @ president/Robert_Biedron/5.jpeg\n",
      "Found: 1 face location(s) @ president/Robert_Biedron/10.jpg\n",
      "Found: 1 face location(s) @ president/Robert_Biedron/6.jpg\n",
      "Found: 1 face location(s) @ president/Robert_Biedron/7.jpg\n",
      "Found: 1 face location(s) @ president/Robert_Biedron/11.jpg\n",
      "Found: 1 face location(s) @ president/Robert_Biedron/3.jpg\n",
      "Found: 1 face location(s) @ president/Kosiniak-Kamysz/Clipboard05.jpg\n",
      "Found: 1 face location(s) @ president/Kosiniak-Kamysz/Clipboard08.jpg\n",
      "Found: 1 face location(s) @ president/Kosiniak-Kamysz/Clipboard07.jpg\n",
      "Found: 1 face location(s) @ president/Kosiniak-Kamysz/Clipboard06.jpg\n",
      "Found: 1 face location(s) @ president/Kosiniak-Kamysz/Clipboard09.jpg\n",
      "Found: 1 face location(s) @ president/Kosiniak-Kamysz/Clipboard02.jpg\n",
      "Found: 1 face location(s) @ president/Kosiniak-Kamysz/Clipboard10.jpg\n",
      "Found: 1 face location(s) @ president/Kosiniak-Kamysz/Clipboard04.jpg\n",
      "Found: 1 face location(s) @ president/Kosiniak-Kamysz/Clipboard01.jpg\n",
      "Found: 1 face location(s) @ president/Kosiniak-Kamysz/Clipboard03.jpg\n",
      "Found: 1 face location(s) @ president/Krzysztof_ Bosak/Clipboard05.jpg\n",
      "Found: 1 face location(s) @ president/Krzysztof_ Bosak/Clipboard11.jpg\n",
      "Found: 1 face location(s) @ president/Krzysztof_ Bosak/Clipboard08.jpg\n",
      "Found: 1 face location(s) @ president/Krzysztof_ Bosak/Clipboard07.jpg\n",
      "Found: 1 face location(s) @ president/Krzysztof_ Bosak/Clipboard12.jpg\n",
      "Found: 1 face location(s) @ president/Krzysztof_ Bosak/Clipboard06.jpg\n",
      "Found: 1 face location(s) @ president/Krzysztof_ Bosak/Clipboard09.jpg\n",
      "Found: 1 face location(s) @ president/Krzysztof_ Bosak/Clipboard02.jpg\n",
      "Found: 1 face location(s) @ president/Krzysztof_ Bosak/Clipboard10.jpg\n",
      "Found: 1 face location(s) @ president/Krzysztof_ Bosak/Clipboard04.jpg\n",
      "Found: 1 face location(s) @ president/Krzysztof_ Bosak/Clipboard01.jpg\n",
      "Found: 1 face location(s) @ president/Krzysztof_ Bosak/Clipboard03.jpg\n",
      "Found: 1 face location(s) @ president/Szymon_Holownia/Clipboard05.jpg\n",
      "Found: 1 face location(s) @ president/Szymon_Holownia/Clipboard08.jpg\n",
      "Found: 1 face location(s) @ president/Szymon_Holownia/Clipboard07.jpg\n",
      "Found: 1 face location(s) @ president/Szymon_Holownia/Clipboard06.jpg\n",
      "Found: 1 face location(s) @ president/Szymon_Holownia/Clipboard09.jpg\n",
      "Found: 1 face location(s) @ president/Szymon_Holownia/Clipboard02.jpg\n",
      "Found: 1 face location(s) @ president/Szymon_Holownia/Clipboard04.jpg\n",
      "Found: 1 face location(s) @ president/Szymon_Holownia/Clipboard01.jpg\n",
      "Found: 1 face location(s) @ president/Szymon_Holownia/Clipboard03.jpg\n"
     ]
    }
   ],
   "source": [
    "main_list = []\n",
    "for img_path in list_images(\"president/\"):\n",
    "    name, encoding = encode_faces(img_path)\n",
    "    main_list.append(\n",
    "        {\"name\":name, \"face_encodings\":encoding}\n",
    "    )"
   ]
  },
  {
   "cell_type": "code",
   "execution_count": 6,
   "metadata": {},
   "outputs": [
    {
     "data": {
      "text/html": [
       "<div>\n",
       "<style scoped>\n",
       "    .dataframe tbody tr th:only-of-type {\n",
       "        vertical-align: middle;\n",
       "    }\n",
       "\n",
       "    .dataframe tbody tr th {\n",
       "        vertical-align: top;\n",
       "    }\n",
       "\n",
       "    .dataframe thead th {\n",
       "        text-align: right;\n",
       "    }\n",
       "</style>\n",
       "<table border=\"1\" class=\"dataframe\">\n",
       "  <thead>\n",
       "    <tr style=\"text-align: right;\">\n",
       "      <th></th>\n",
       "      <th>name</th>\n",
       "      <th>face_encodings</th>\n",
       "    </tr>\n",
       "  </thead>\n",
       "  <tbody>\n",
       "    <tr>\n",
       "      <th>0</th>\n",
       "      <td>Malgorzata_Kidawa_Błonska</td>\n",
       "      <td>[-0.042005591094493866, 0.05943324416875839, 0...</td>\n",
       "    </tr>\n",
       "    <tr>\n",
       "      <th>1</th>\n",
       "      <td>Malgorzata_Kidawa_Błonska</td>\n",
       "      <td>[-0.09414239972829819, 0.060685817152261734, 0...</td>\n",
       "    </tr>\n",
       "    <tr>\n",
       "      <th>2</th>\n",
       "      <td>Malgorzata_Kidawa_Błonska</td>\n",
       "      <td>[-0.10598328709602356, 0.004218646325170994, 0...</td>\n",
       "    </tr>\n",
       "    <tr>\n",
       "      <th>3</th>\n",
       "      <td>Malgorzata_Kidawa_Błonska</td>\n",
       "      <td>[-0.1344667226076126, 0.0535491518676281, 0.12...</td>\n",
       "    </tr>\n",
       "    <tr>\n",
       "      <th>4</th>\n",
       "      <td>Malgorzata_Kidawa_Błonska</td>\n",
       "      <td>[-0.09127259254455566, 0.01590435579419136, 0....</td>\n",
       "    </tr>\n",
       "  </tbody>\n",
       "</table>\n",
       "</div>"
      ],
      "text/plain": [
       "                        name  \\\n",
       "0  Malgorzata_Kidawa_Błonska   \n",
       "1  Malgorzata_Kidawa_Błonska   \n",
       "2  Malgorzata_Kidawa_Błonska   \n",
       "3  Malgorzata_Kidawa_Błonska   \n",
       "4  Malgorzata_Kidawa_Błonska   \n",
       "\n",
       "                                      face_encodings  \n",
       "0  [-0.042005591094493866, 0.05943324416875839, 0...  \n",
       "1  [-0.09414239972829819, 0.060685817152261734, 0...  \n",
       "2  [-0.10598328709602356, 0.004218646325170994, 0...  \n",
       "3  [-0.1344667226076126, 0.0535491518676281, 0.12...  \n",
       "4  [-0.09127259254455566, 0.01590435579419136, 0....  "
      ]
     },
     "execution_count": 6,
     "metadata": {},
     "output_type": "execute_result"
    }
   ],
   "source": [
    "df = pd.DataFrame(main_list)\n",
    "df.head()"
   ]
  },
  {
   "cell_type": "code",
   "execution_count": 7,
   "metadata": {},
   "outputs": [],
   "source": [
    "name_dict = {\n",
    "    'Malgorzata_Kidawa_Błonska':'Małgorzata Kidawa-Błońska', \n",
    "    'Andrzej_Duda':'Andrzej Duda', \n",
    "    'Robert_Biedron':'Robert Biedroń', \n",
    "    'Kosiniak-Kamysz':'Władysław Kosiniak-Kamysz', \n",
    "    'Piotr Liroy-Marzec':'Piotr Liroy-Marzec', \n",
    "    'Krzysztof_ Bosak':'Krzysztof Bosak', \n",
    "    'Szymon_Holownia':'Szymon Hołownia',\n",
    "    'Leszek_Samborski':'Leszek Samborski',\n",
    "    'Piotr_Bakun':'Piotr Bakun',\n",
    "    'Stanislaw_Zoltek':'Stanisław Żółtek',\n",
    "    'Wojciech_Podjacki':'Wojciech Podjacki', \n",
    "    'Miroslaw_Piotrowski': 'Mirosław Piotrowski', \n",
    "    'Marek_Jakubiak': 'Marek Jakubiak', \n",
    "    'Pawel_Tanajno': 'Paweł Tanajno'\n",
    "}"
   ]
  },
  {
   "cell_type": "code",
   "execution_count": 10,
   "metadata": {},
   "outputs": [],
   "source": [
    "df[\"name\"] = df[\"name\"].map(name_dict)"
   ]
  },
  {
   "cell_type": "code",
   "execution_count": 11,
   "metadata": {},
   "outputs": [],
   "source": [
    "df.to_pickle(\"president_faces_df.pickle\")"
   ]
  },
  {
   "cell_type": "code",
   "execution_count": null,
   "metadata": {},
   "outputs": [],
   "source": []
  }
 ],
 "metadata": {
  "kernelspec": {
   "display_name": "Python 3",
   "language": "python",
   "name": "python3"
  },
  "language_info": {
   "codemirror_mode": {
    "name": "ipython",
    "version": 3
   },
   "file_extension": ".py",
   "mimetype": "text/x-python",
   "name": "python",
   "nbconvert_exporter": "python",
   "pygments_lexer": "ipython3",
   "version": "3.7.5"
  }
 },
 "nbformat": 4,
 "nbformat_minor": 2
}
